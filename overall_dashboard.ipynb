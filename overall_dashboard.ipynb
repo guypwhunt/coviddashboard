{
 "cells": [
  {
   "cell_type": "markdown",
   "metadata": {},
   "source": [
    "# Covid-19 Dashboard\n",
    "\n",
    "There are five graphs displayed below showing the daily Covid cases, hospital admissions and deaths for the UK, England, Scotland, Wales and Northern Ireland.\n",
    "\n",
    "## Key for all of the Graphs\n",
    "\n",
    "Cases relates to new cases by publish date\n",
    "\n",
    "Hospital relates to new hospital admissions\n",
    "\n",
    "Deaths relates to new deaths within 28 days of positive test by death date\n",
    "\n",
    "Please refresh the data for the latest view of the graph"
   ]
  },
  {
   "cell_type": "markdown",
   "metadata": {},
   "source": [
    "## Cases, Hospitalisations and Deaths per Day Across the UK"
   ]
  },
  {
   "cell_type": "code",
   "execution_count": 1,
   "metadata": {},
   "outputs": [],
   "source": [
    "# The code in this section is used by all the subsequent sections\n",
    "# Import necessary libraries\n",
    "import ipywidgets as wdg\n",
    "import matplotlib.pyplot as plt\n",
    "import timeseries as ts\n",
    "\n",
    "# Include graphs in notebook\n",
    "%matplotlib inline\n",
    "# Make graphs larger\n",
    "plt.rcParams['figure.dpi'] = 100"
   ]
  },
  {
   "cell_type": "code",
   "execution_count": 2,
   "metadata": {},
   "outputs": [
    {
     "output_type": "display_data",
     "data": {
      "text/plain": "HBox(children=(Output(), VBox(children=(SelectMultiple(description='Stats:', index=(0, 1, 2), options=('cases'…",
      "application/vnd.jupyter.widget-view+json": {
       "version_major": 2,
       "version_minor": 0,
       "model_id": "7cb8f0dbc83f47d29bc357dbda3effa9"
      }
     },
     "metadata": {}
    }
   ],
   "source": [
    "# The code in this section creates an object for the UK data and displays the graph\n",
    "# Define variables for the timeseries object\n",
    "file_name = 'timeseries.json'\n",
    "filters = ['areaType=overview']\n",
    "columns = ['cases', 'hospital', 'deaths']\n",
    "structure = {\n",
    "        \"date\": \"date\",\n",
    "        \"cases\": \"newCasesByPublishDate\",\n",
    "        \"hospital\": \"newAdmissions\",\n",
    "        \"deaths\": \"newDeaths28DaysByDeathDate\"\n",
    "        }\n",
    "\n",
    "# Create a widget for the user to select columns\n",
    "series=wdg.SelectMultiple(\n",
    "    options=columns,\n",
    "    value=columns,\n",
    "    rows=3,\n",
    "    description='Stats:',\n",
    "    disabled=False\n",
    ")\n",
    "\n",
    "# Create a button to allow users to flick between log and linear displays\n",
    "scale=wdg.RadioButtons(\n",
    "    options=['linear', 'log'],\n",
    "    description='Scale:',\n",
    "    disabled=False\n",
    ")\n",
    "\n",
    "# Create a button to allow users to refresh the data\n",
    "apibutton=wdg.Button(\n",
    "    description='Refresh Data',\n",
    "    disabled=False,\n",
    "    button_style='primary', \n",
    "    tooltip=\"Click to refresh the data in the graph\",\n",
    "    icon='refresh'\n",
    ")\n",
    "\n",
    "# Create an overall timeseries object\n",
    "timeseries = ts.timeseries(file_name = file_name, columns = columns, filters = filters, structure = structure, series = series, scale = scale, apibutton = apibutton)\n",
    "\n",
    "# Convert JSON file to data frame\n",
    "timeseries.wrangle_data()\n",
    "    \n",
    "# Register button callback function with the button\n",
    "timeseries.apibutton.on_click(timeseries.api_button_callback)\n",
    "\n",
    "controls=wdg.VBox([timeseries.series, timeseries.scale, timeseries.apibutton])\n",
    "    \n",
    "graph=wdg.interactive_output(timeseries.timeseries_graph, {'gcols': timeseries.series, 'gscale': timeseries.scale})\n",
    "\n",
    "form=wdg.HBox([graph, controls])    \n",
    "display(form)"
   ]
  },
  {
   "cell_type": "markdown",
   "metadata": {},
   "source": [
    "## Cases, Hospitalisations and Deaths per Day Across England"
   ]
  },
  {
   "cell_type": "code",
   "execution_count": 3,
   "metadata": {},
   "outputs": [
    {
     "output_type": "display_data",
     "data": {
      "text/plain": "HBox(children=(Output(), VBox(children=(SelectMultiple(description='Stats:', index=(0, 1, 2), options=('cases'…",
      "application/vnd.jupyter.widget-view+json": {
       "version_major": 2,
       "version_minor": 0,
       "model_id": "1f5a459ed7dd482bb0490fb2f483b7ae"
      }
     },
     "metadata": {}
    }
   ],
   "source": [
    "# The code in this section creates an object for the England data and displays the graph\n",
    "# Define variables for the timeseries object\n",
    "england_file_name = 'england_timeseries.json'\n",
    "england_columns = ['cases', 'hospital', 'deaths']\n",
    "england_filters = ['areaType=nation;areaName=england']\n",
    "england_structure = {\n",
    "        \"date\": \"date\",\n",
    "        \"cases\": \"newCasesByPublishDate\",\n",
    "        \"hospital\": \"newAdmissions\",\n",
    "        \"deaths\": \"newDeaths28DaysByDeathDate\"\n",
    "        }\n",
    "\n",
    "# Create a widget for the user to select columns\n",
    "england_series=wdg.SelectMultiple(\n",
    "    options=columns,\n",
    "    value=columns,\n",
    "    rows=3,\n",
    "    description='Stats:',\n",
    "    disabled=False\n",
    ")\n",
    "\n",
    "# Create a button to allow users to flick between log and linear displays\n",
    "england_scale=wdg.RadioButtons(\n",
    "    options=['linear', 'log'],\n",
    "    description='Scale:',\n",
    "    disabled=False\n",
    ")\n",
    "\n",
    "# Create a button to allow users to refresh the data\n",
    "england_apibutton=wdg.Button(\n",
    "    description='Refresh Data',\n",
    "    disabled=False,\n",
    "    button_style='primary', \n",
    "    tooltip=\"Click to refresh the data in the graph\",\n",
    "    icon='refresh'\n",
    ")\n",
    "\n",
    "# Create an overall timeseries object\n",
    "england_timeseries = ts.timeseries(file_name = england_file_name, columns = england_columns, filters = england_filters, structure = england_structure, series = england_series, scale = england_scale, apibutton = england_apibutton)\n",
    "\n",
    "# Convert JSON file to data frame\n",
    "england_timeseries.wrangle_data()\n",
    "    \n",
    "# Register button callback function with the button\n",
    "england_timeseries.apibutton.on_click(england_timeseries.api_button_callback)\n",
    "\n",
    "england_controls=wdg.VBox([england_timeseries.series, england_timeseries.scale, england_timeseries.apibutton])\n",
    "    \n",
    "england_graph=wdg.interactive_output(england_timeseries.timeseries_graph, {'gcols': england_timeseries.series, 'gscale': england_timeseries.scale})\n",
    "\n",
    "england_form=wdg.HBox([england_graph, england_controls])    \n",
    "display(england_form)"
   ]
  },
  {
   "cell_type": "markdown",
   "metadata": {},
   "source": [
    "## Cases, Hospitalisations and Deaths per Day Across Scotland"
   ]
  },
  {
   "cell_type": "code",
   "execution_count": 4,
   "metadata": {},
   "outputs": [
    {
     "output_type": "display_data",
     "data": {
      "text/plain": "HBox(children=(Output(), VBox(children=(SelectMultiple(description='Stats:', index=(0, 1, 2), options=('cases'…",
      "application/vnd.jupyter.widget-view+json": {
       "version_major": 2,
       "version_minor": 0,
       "model_id": "56dfecc0d4424f0c800f26c26f80fd4a"
      }
     },
     "metadata": {}
    }
   ],
   "source": [
    "# The code in this section creates an object for the Scotland data and displays the graph\n",
    "# Define variables for the timeseries object\n",
    "scotland_file_name = 'scotland_timeseries.json'\n",
    "scotland_filters = ['areaType=nation;areaName=scotland']\n",
    "scotland_columns = ['cases', 'hospital', 'deaths']\n",
    "scotland_structure = {\n",
    "        \"date\": \"date\",\n",
    "        \"cases\": \"newCasesByPublishDate\",\n",
    "        \"hospital\": \"newAdmissions\",\n",
    "        \"deaths\": \"newDeaths28DaysByDeathDate\"\n",
    "        }\n",
    "\n",
    "# Create a widget for the user to select columns\n",
    "scotland_series=wdg.SelectMultiple(\n",
    "    options=columns,\n",
    "    value=columns,\n",
    "    rows=3,\n",
    "    description='Stats:',\n",
    "    disabled=False\n",
    ")\n",
    "\n",
    "# Create a button to allow users to flick between log and linear displays\n",
    "scotland_scale=wdg.RadioButtons(\n",
    "    options=['linear', 'log'],\n",
    "    description='Scale:',\n",
    "    disabled=False\n",
    ")\n",
    "\n",
    "# Create a button to allow users to refresh the data\n",
    "scotland_apibutton=wdg.Button(\n",
    "    description='Refresh Data',\n",
    "    disabled=False,\n",
    "    button_style='primary', \n",
    "    tooltip=\"Click to refresh the data in the graph\",\n",
    "    icon='refresh'\n",
    ")\n",
    "\n",
    "# Create an overall timeseries object\n",
    "scotland_timeseries = ts.timeseries(file_name = scotland_file_name, columns = scotland_columns, filters = scotland_filters, structure = scotland_structure, series = scotland_series, scale = scotland_scale, apibutton = scotland_apibutton)\n",
    "\n",
    "# Convert JSON file to data frame\n",
    "scotland_timeseries.wrangle_data()\n",
    "    \n",
    "# Register button callback function with the button\n",
    "scotland_timeseries.apibutton.on_click(scotland_timeseries.api_button_callback)\n",
    "\n",
    "scotland_controls=wdg.VBox([scotland_timeseries.series, scotland_timeseries.scale, scotland_timeseries.apibutton])\n",
    "    \n",
    "scotland_graph=wdg.interactive_output(scotland_timeseries.timeseries_graph, {'gcols': scotland_timeseries.series, 'gscale': scotland_timeseries.scale})\n",
    "\n",
    "scotland_form=wdg.HBox([scotland_graph, scotland_controls])    \n",
    "display(scotland_form)"
   ]
  },
  {
   "cell_type": "markdown",
   "metadata": {},
   "source": [
    "## Cases, Hospitalisations and Deaths per Day Across Wales"
   ]
  },
  {
   "cell_type": "code",
   "execution_count": 5,
   "metadata": {},
   "outputs": [
    {
     "output_type": "display_data",
     "data": {
      "text/plain": "HBox(children=(Output(), VBox(children=(SelectMultiple(description='Stats:', index=(0, 1, 2), options=('cases'…",
      "application/vnd.jupyter.widget-view+json": {
       "version_major": 2,
       "version_minor": 0,
       "model_id": "e60ed3fe72a2450cb8d81ce6e0d80894"
      }
     },
     "metadata": {}
    }
   ],
   "source": [
    "# The code in this section creates an object for the Wales data and displays the graph\n",
    "# Define variables for the timeseries object\n",
    "wales_file_name = 'wales_timeseries.json'\n",
    "wales_filters = ['areaType=nation;areaName=wales']\n",
    "wales_columns = ['cases', 'hospital', 'deaths']\n",
    "wales_structure = {\n",
    "        \"date\": \"date\",\n",
    "        \"cases\": \"newCasesByPublishDate\",\n",
    "        \"hospital\": \"newAdmissions\",\n",
    "        \"deaths\": \"newDeaths28DaysByDeathDate\"\n",
    "        }\n",
    "\n",
    "# Create a widget for the user to select columns\n",
    "wales_series=wdg.SelectMultiple(\n",
    "    options=columns,\n",
    "    value=columns,\n",
    "    rows=3,\n",
    "    description='Stats:',\n",
    "    disabled=False\n",
    ")\n",
    "\n",
    "# Create a button to allow users to flick between log and linear displays\n",
    "wales_scale=wdg.RadioButtons(\n",
    "    options=['linear', 'log'],\n",
    "    description='Scale:',\n",
    "    disabled=False\n",
    ")\n",
    "\n",
    "# Create a button to allow users to refresh the data\n",
    "wales_apibutton=wdg.Button(\n",
    "    description='Refresh Data',\n",
    "    disabled=False,\n",
    "    button_style='primary', \n",
    "    tooltip=\"Click to refresh the data in the graph\",\n",
    "    icon='refresh'\n",
    ")\n",
    "\n",
    "# Create an overall timeseries object\n",
    "wales_timeseries = ts.timeseries(file_name = wales_file_name, columns = wales_columns, filters = wales_filters, structure = wales_structure, series = wales_series, scale = wales_scale, apibutton = wales_apibutton)\n",
    "\n",
    "# Convert JSON file to data frame\n",
    "wales_timeseries.wrangle_data()\n",
    "    \n",
    "# Register button callback function with the button\n",
    "wales_timeseries.apibutton.on_click(wales_timeseries.api_button_callback)\n",
    "\n",
    "wales_controls=wdg.VBox([wales_timeseries.series, wales_timeseries.scale, wales_timeseries.apibutton])\n",
    "    \n",
    "wales_graph=wdg.interactive_output(wales_timeseries.timeseries_graph, {'gcols': wales_timeseries.series, 'gscale': wales_timeseries.scale})\n",
    "\n",
    "wales_form=wdg.HBox([wales_graph, wales_controls])    \n",
    "display(wales_form)"
   ]
  },
  {
   "cell_type": "markdown",
   "metadata": {},
   "source": [
    "## Cases, Hospitalisations and Deaths per Day Across Northern Ireland"
   ]
  },
  {
   "cell_type": "code",
   "execution_count": 6,
   "metadata": {},
   "outputs": [
    {
     "output_type": "display_data",
     "data": {
      "text/plain": "HBox(children=(Output(), VBox(children=(SelectMultiple(description='Stats:', index=(0, 1, 2), options=('cases'…",
      "application/vnd.jupyter.widget-view+json": {
       "version_major": 2,
       "version_minor": 0,
       "model_id": "91b3e41313884fa58d7704ba163cc8ef"
      }
     },
     "metadata": {}
    }
   ],
   "source": [
    "# The code in this section creates an object for the Northern Ireland data and displays the graph\n",
    "# Define variables for the timeseries object\n",
    "ni_file_name = 'ni_timeseries.json'\n",
    "ni_filters = ['areaType=nation;areaName=northern ireland']\n",
    "ni_columns = ['cases', 'hospital', 'deaths']\n",
    "ni_structure = {\n",
    "        \"date\": \"date\",\n",
    "        \"cases\": \"newCasesByPublishDate\",\n",
    "        \"hospital\": \"newAdmissions\",\n",
    "        \"deaths\": \"newDeaths28DaysByDeathDate\"\n",
    "        }\n",
    "\n",
    "# Create a widget for the user to select columns\n",
    "ni_series=wdg.SelectMultiple(\n",
    "    options=columns,\n",
    "    value=columns,\n",
    "    rows=3,\n",
    "    description='Stats:',\n",
    "    disabled=False\n",
    ")\n",
    "\n",
    "# Create a button to allow users to flick between log and linear displays\n",
    "ni_scale=wdg.RadioButtons(\n",
    "    options=['linear', 'log'],\n",
    "    description='Scale:',\n",
    "    disabled=False\n",
    ")\n",
    "\n",
    "# Create a button to allow users to refresh the data\n",
    "ni_apibutton=wdg.Button(\n",
    "    description='Refresh Data',\n",
    "    disabled=False,\n",
    "    button_style='primary', \n",
    "    tooltip=\"Click to refresh the data in the graph\",\n",
    "    icon='refresh'\n",
    ")\n",
    "\n",
    "\n",
    "# Create an overall timeseries object\n",
    "ni_timeseries = ts.timeseries(file_name = ni_file_name, columns = ni_columns, filters = ni_filters, structure = ni_structure, series = ni_series, scale = ni_scale, apibutton = ni_apibutton)\n",
    "\n",
    "# Convert JSON file to data frame\n",
    "ni_timeseries.wrangle_data()\n",
    "    \n",
    "# Register button callback function with the button\n",
    "ni_timeseries.apibutton.on_click(ni_timeseries.api_button_callback)\n",
    "\n",
    "ni_controls=wdg.VBox([ni_timeseries.series, ni_timeseries.scale, ni_timeseries.apibutton])\n",
    "    \n",
    "ni_graph=wdg.interactive_output(ni_timeseries.timeseries_graph, {'gcols': ni_timeseries.series, 'gscale': ni_timeseries.scale})\n",
    "\n",
    "ni_form=wdg.HBox([ni_graph, ni_controls])    \n",
    "display(ni_form)"
   ]
  },
  {
   "cell_type": "markdown",
   "metadata": {},
   "source": [
    "**Author and Copyright Notice** (C) Guy Hunt, 2020 (g.p.w.hunt@se20.qmul.ac.uk). All rights reserved.: *Based on UK Government [data](https://coronavirus.data.gov.uk/) published by [Public Health England](https://www.gov.uk/government/organisations/public-health-england).*"
   ]
  }
 ],
 "metadata": {
  "kernelspec": {
   "display_name": "Python 3",
   "language": "python",
   "name": "python3"
  },
  "language_info": {
   "codemirror_mode": {
    "name": "ipython",
    "version": 3
   },
   "file_extension": ".py",
   "mimetype": "text/x-python",
   "name": "python",
   "nbconvert_exporter": "python",
   "pygments_lexer": "ipython3",
   "version": "3.7.6-final"
  }
 },
 "nbformat": 4,
 "nbformat_minor": 4
}