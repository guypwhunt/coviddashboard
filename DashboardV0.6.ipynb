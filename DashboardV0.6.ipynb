{
 "cells": [
  {
   "cell_type": "markdown",
   "metadata": {},
   "source": [
    "# Covid-19 Dashboard"
   ]
  },
  {
   "cell_type": "markdown",
   "metadata": {},
   "source": []
  },
  {
   "cell_type": "code",
   "execution_count": 20,
   "metadata": {},
   "outputs": [],
   "source": [
    "# Import necessary libraries\n",
    "import ipywidgets as wdg\n",
    "import matplotlib.pyplot as plt\n",
    "import pickle\n",
    "import time\n",
    "from uk_covid19 import Cov19API\n",
    "import timeseries\n",
    "\n",
    "# Include graphs in notebook\n",
    "%matplotlib inline\n",
    "# Make graphs larger\n",
    "plt.rcParams['figure.dpi'] = 100\n",
    "\n",
    "# Define variables for the timeseries object\n",
    "file_name = 'timeseriesdf.pkl'\n",
    "columns = ['cases', 'hospital', 'deaths']\n",
    "filters = ['areaType=overview']\n",
    "structure = {\n",
    "        \"date\": \"date\",\n",
    "        \"cases\": \"newCasesByPublishDate\",\n",
    "        \"hospital\": \"newAdmissions\",\n",
    "        \"deaths\": \"cumDeaths28DaysByDeathDateRate\"\n",
    "        }\n",
    "# Create timeseries object\n",
    "timeseries = timeseries.timeseries(file_name = file_name, columns = columns, filters = filters, structure = structure)\n",
    "\n",
    "# Function to trigger access_api function when the refresh button is clicked \n",
    "def api_button_callback(button):\n",
    "    \"\"\" Button callback - it must take the button as its parameter (unused in this case).\n",
    "    Accesses API, wrangles data, updates global variable df used for plotting. \"\"\"\n",
    "    # Try calling the api\n",
    "    try:\n",
    "        timeseries.access_api()\n",
    "        # Format the data for plotting\n",
    "        timeseries.wrangle_data()\n",
    "        # Save the outputs to the pickle file for when the dashboard is next viewd\n",
    "        timeseries.df.to_pickle(file_name)\n",
    "        # Trigger the graph to refresh\n",
    "        refresh_graph()\n",
    "        # Update the Button to show the API was successful\n",
    "        apibutton.description='Successful!'\n",
    "        apibutton.icon=\"check\"\n",
    "        apibutton.button_style='success'\n",
    "        apibutton.disabled=True\n",
    "        time.sleep(3)\n",
    "        # Reset the Button \n",
    "        apibutton.description='Refresh Data'\n",
    "        apibutton.icon=\"refresh\"\n",
    "        apibutton.button_style='primary'\n",
    "        apibutton.disabled=False\n",
    "    except:\n",
    "        # Update the Button to show the API failed\n",
    "        apibutton.description='Error'\n",
    "        apibutton.icon=\"fa-exclamation-triangle\"\n",
    "        apibutton.button_style='warning'\n",
    "        apibutton.disabled=True\n",
    "        time.sleep(3)\n",
    "        # Reset the Button\n",
    "        apibutton.description='Refresh Data'\n",
    "        apibutton.icon=\"refresh\"\n",
    "        apibutton.button_style='primary'\n",
    "        apibutton.disabled=False\n",
    "    \n",
    "apibutton=wdg.Button(\n",
    "    description='Refresh Data',\n",
    "    disabled=False,\n",
    "    button_style='primary', \n",
    "    tooltip=\"Click to refresh the data in the graph\",\n",
    "    icon='refresh'\n",
    ")\n",
    "\n",
    "# Register button callback function with the button\n",
    "apibutton.on_click(api_button_callback)"
   ]
  },
  {
   "cell_type": "markdown",
   "metadata": {},
   "source": [
    "## Time Series Graph of Cases, Hospitalisations and Deaths"
   ]
  },
  {
   "cell_type": "markdown",
   "metadata": {},
   "source": [
    "Cases relates to daily case relates\n",
    "\n",
    "Hospital relates to new hospital admissions\n",
    "\n",
    "Deaths relates to cumulative deaths within 28 days of positive test by death date per 100k resident population\n",
    "\n",
    "Please refresh the data for the latest view of the graph"
   ]
  },
  {
   "cell_type": "code",
   "execution_count": 21,
   "metadata": {},
   "outputs": [
    {
     "output_type": "display_data",
     "data": {
      "text/plain": "HBox(children=(Output(), VBox(children=(SelectMultiple(description='Stats:', index=(0, 1, 2), options=('cases'…",
      "application/vnd.jupyter.widget-view+json": {
       "version_major": 2,
       "version_minor": 0,
       "model_id": "5694d021f7df4bb9b108da47ffc0bace"
      }
     },
     "metadata": {}
    }
   ],
   "source": [
    "# Create a function to flick between log scale and columns displayed on the graph\n",
    "def timeseries_graph(gcols, gscale):\n",
    "    if gscale=='linear':\n",
    "        logscale=False\n",
    "    else:\n",
    "        logscale=True\n",
    "    ncols=len(gcols)\n",
    "    if ncols>0:\n",
    "        timeseries.df[list(gcols)].plot(logy=logscale)\n",
    "    else:\n",
    "        print(\"Click to select data for graph\")\n",
    "        print(\"(CTRL-Click to select more than one category)\")\n",
    "\n",
    "# Create a widget for the user to select columns\n",
    "series=wdg.SelectMultiple(\n",
    "    options=['cases', 'hospital', 'deaths'],\n",
    "    value=['cases', 'hospital', 'deaths'],\n",
    "    rows=3,\n",
    "    description='Stats:',\n",
    "    disabled=False\n",
    ")\n",
    "\n",
    "# Create a button to allow users to flick between log and linear displays\n",
    "scale=wdg.RadioButtons(\n",
    "    options=['linear', 'log'],\n",
    "    description='Scale:',\n",
    "    disabled=False\n",
    ")\n",
    "\n",
    "def refresh_graph():\n",
    "    \"\"\" We change the value of the widget in order to force a redraw of the graph;\n",
    "    this is useful when the data have been updated. This is a bit of a gimmick; it\n",
    "    needs to be customised for one of your widgets. \"\"\"\n",
    "    current=scale.value\n",
    "    if current==scale.options[0]:\n",
    "        other=scale.options[1]\n",
    "    else:\n",
    "        other=scale.options[0]\n",
    "    scale.value=other # forces the redraw\n",
    "    scale.value=current # now we can change it back\"\"\"\n",
    "\n",
    "    \n",
    "controls=wdg.VBox([series, scale, apibutton])\n",
    "    \n",
    "graph=wdg.interactive_output(timeseries_graph, {'gcols': series, 'gscale': scale})\n",
    "\n",
    "form=wdg.HBox([graph, controls])    \n",
    "display(form)"
   ]
  },
  {
   "cell_type": "markdown",
   "metadata": {},
   "source": [
    "**Author and Copyright Notice** (C) Guy Hunt, 2020 (g.p.w.hunt@se20.qmul.ac.uk). All rights reserved.: *Based on UK Government [data](https://coronavirus.data.gov.uk/) published by [Public Health England](https://www.gov.uk/government/organisations/public-health-england).*"
   ]
  }
 ],
 "metadata": {
  "kernelspec": {
   "display_name": "Python 3",
   "language": "python",
   "name": "python3"
  },
  "language_info": {
   "codemirror_mode": {
    "name": "ipython",
    "version": 3
   },
   "file_extension": ".py",
   "mimetype": "text/x-python",
   "name": "python",
   "nbconvert_exporter": "python",
   "pygments_lexer": "ipython3",
   "version": "3.7.6-final"
  }
 },
 "nbformat": 4,
 "nbformat_minor": 4
}